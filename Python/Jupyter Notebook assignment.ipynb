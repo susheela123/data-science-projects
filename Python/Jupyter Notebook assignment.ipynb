{
 "cells": [
  {
   "cell_type": "markdown",
   "metadata": {},
   "source": [
    "### Assignment\n",
    "1. Demonstrates the basics of jupyter notebook such as\n",
    "    a. Write and execute code\n",
    "    b. create a new cell\n",
    "    c. create marckdown cells and add text"
   ]
  },
  {
   "cell_type": "code",
   "execution_count": 1,
   "metadata": {},
   "outputs": [
    {
     "name": "stdout",
     "output_type": "stream",
     "text": [
      "Before swap: a = 14 and b =  22\n",
      "After swap: a = 22 and b =  14\n"
     ]
    }
   ],
   "source": [
    "a = 14\n",
    "b = 22\n",
    "print(\"Before swap: a =\",a,\"and b = \",b)\n",
    "b = b - a\n",
    "a = a + b\n",
    "b = a - b\n",
    "print(\"After swap: a =\",a,\"and b = \",b)"
   ]
  },
  {
   "cell_type": "markdown",
   "metadata": {},
   "source": [
    "### Lab - Jupyter Notebook - Advanced Features\n",
    "## Markdown features"
   ]
  },
  {
   "cell_type": "markdown",
   "metadata": {},
   "source": [
    "# Header 1\n",
    "## Header 2\n",
    "### H3\n",
    "#### H4\n",
    "##### H5\n",
    "###### H6"
   ]
  },
  {
   "cell_type": "markdown",
   "metadata": {},
   "source": [
    "|Name | Gender | Salary |\n",
    "| -----| ----- | ----- |\n",
    "| S | F | 70000 |\n",
    "| Sai | G | 100000 |"
   ]
  },
  {
   "cell_type": "markdown",
   "metadata": {},
   "source": [
    "For more info :https://github.com/adam-p/markdown-here/wiki/Markdown-Cheatsheet#tables"
   ]
  },
  {
   "cell_type": "markdown",
   "metadata": {},
   "source": [
    " ###  List of jupyter notebooks\n",
    "    https://github.com/jupyter/jupyter/wiki/A-gallery-of-interesting-Jupyter-Notebooks"
   ]
  },
  {
   "cell_type": "markdown",
   "metadata": {},
   "source": [
    "### Assignment - jupyter notebook more features\n",
    " The tasks are as follows:\n",
    "    1. rename your notebook\n",
    "    2. Save and Download your Jupyter Notebook from Skills Network Labs to your computer\n",
    "    3. Upload a Jupyter Notebook to Skills Network Labs\n",
    "    4. Change your kernel (to Python 3, R) in JupyterLab"
   ]
  },
  {
   "cell_type": "code",
   "execution_count": null,
   "metadata": {},
   "outputs": [],
   "source": []
  }
 ],
 "metadata": {
  "kernelspec": {
   "display_name": "Python 3",
   "language": "python",
   "name": "python3"
  },
  "language_info": {
   "codemirror_mode": {
    "name": "ipython",
    "version": 3
   },
   "file_extension": ".py",
   "mimetype": "text/x-python",
   "name": "python",
   "nbconvert_exporter": "python",
   "pygments_lexer": "ipython3",
   "version": "3.8.3"
  }
 },
 "nbformat": 4,
 "nbformat_minor": 4
}
