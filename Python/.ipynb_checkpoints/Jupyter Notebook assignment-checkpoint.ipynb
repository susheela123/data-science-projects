{
 "cells": [
  {
   "cell_type": "markdown",
   "metadata": {},
   "source": [
    "### Assignment\n",
    "1. Demonstrates the basics of jupyter notebook such as\n",
    "    a. Write and execute code\n",
    "    b. create a new cell\n",
    "    c. create marckdown cells and add text"
   ]
  },
  {
   "cell_type": "code",
   "execution_count": 5,
   "metadata": {},
   "outputs": [
    {
     "name": "stdout",
     "output_type": "stream",
     "text": [
      "Before swap: a = 14 and b =  22\n",
      "After swap: a = 22 and b =  14\n"
     ]
    }
   ],
   "source": [
    "a = 14\n",
    "b = 22\n",
    "print(\"Before swap: a =\",a,\"and b = \",b)\n",
    "b = b - a\n",
    "a = a + b\n",
    "b = a - b\n",
    "print(\"After swap: a =\",a,\"and b = \",b)"
   ]
  }
 ],
 "metadata": {
  "kernelspec": {
   "display_name": "Python 3",
   "language": "python",
   "name": "python3"
  },
  "language_info": {
   "codemirror_mode": {
    "name": "ipython",
    "version": 3
   },
   "file_extension": ".py",
   "mimetype": "text/x-python",
   "name": "python",
   "nbconvert_exporter": "python",
   "pygments_lexer": "ipython3",
   "version": "3.8.3"
  }
 },
 "nbformat": 4,
 "nbformat_minor": 4
}
